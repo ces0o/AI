{
  "nbformat": 4,
  "nbformat_minor": 0,
  "metadata": {
    "colab": {
      "provenance": []
    },
    "kernelspec": {
      "name": "python3",
      "display_name": "Python 3"
    },
    "language_info": {
      "name": "python"
    }
  },
  "cells": [
    {
      "cell_type": "markdown",
      "metadata": {
        "id": "Fy2_q1yA_eY2"
      },
      "source": [
        "# Linear Regression\n"
      ]
    },
    {
      "cell_type": "markdown",
      "metadata": {
        "id": "kFWSw3mPzCd3"
      },
      "source": [
        "### Imports"
      ]
    },
    {
      "cell_type": "code",
      "metadata": {
        "id": "ePyjL-fEA4As",
        "colab": {
          "base_uri": "https://localhost:8080/"
        },
        "outputId": "6d1529b5-99ee-4f82-fffa-ec22bc8bc734"
      },
      "source": [
        "import numpy as np # numpy 모듈 import\n",
        "import torch # torch를 import\n",
        "import torch.nn as nn # torch.nn을 nn으로써 import\n",
        "import torch.nn.functional as func # torch.nn.functional을 func으로써 import\n",
        "import torch.optim as opt # torch.optim을 opt로써 import\n",
        "\n",
        "from google.colab import drive\n",
        "drive.mount('/content/drive') # -> google drive를 google.colab에 mount\n",
        "\n",
        "# Seed 고정\n",
        "torch.manual_seed(1) # 제대로된 학습을 하고 있는지 확인하기 위해서 seed를 고정한다"
      ],
      "execution_count": null,
      "outputs": [
        {
          "output_type": "stream",
          "name": "stdout",
          "text": [
            "Mounted at /content/drive\n"
          ]
        },
        {
          "output_type": "execute_result",
          "data": {
            "text/plain": [
              "<torch._C.Generator at 0x7dde880ebab0>"
            ]
          },
          "metadata": {},
          "execution_count": 1
        }
      ]
    },
    {
      "cell_type": "markdown",
      "metadata": {
        "id": "SH2RX5pEBB0H"
      },
      "source": [
        "### 1 Data loading\n",
        "| x | y |\n",
        "|---|---|\n",
        "| 1 | 1 |\n",
        "| 2 | 2 |\n",
        "| 3 | 3 |\n",
        "\n"
      ]
    },
    {
      "cell_type": "code",
      "metadata": {
        "id": "HL2ZwVjWBCw7",
        "colab": {
          "base_uri": "https://localhost:8080/"
        },
        "outputId": "7203e992-699a-4e01-f680-822282707b39"
      },
      "source": [
        "# Data 수동으로 입력하기\n",
        "x_train = torch.FloatTensor([[1],[2],[3]]) # rank를 2로 설정하기 위해 각각 묶어준다\n",
        "y_train = torch.FloatTensor([[1],[2],[3]]) # 위의 설명과 동일\n",
        "\n",
        "print(x_train) # x_train 출력\n",
        "print(x_train.shape) # x_train의 shape 출력\n",
        "print(y_train) # y_train 출력\n",
        "print(y_train.shape) # y_train의 shape 출력"
      ],
      "execution_count": null,
      "outputs": [
        {
          "output_type": "stream",
          "name": "stdout",
          "text": [
            "tensor([[1.],\n",
            "        [2.],\n",
            "        [3.]])\n",
            "torch.Size([3, 1])\n",
            "tensor([[1.],\n",
            "        [2.],\n",
            "        [3.]])\n",
            "torch.Size([3, 1])\n"
          ]
        }
      ]
    },
    {
      "cell_type": "markdown",
      "metadata": {
        "id": "bfef_frYE6yz"
      },
      "source": [
        "### 2 Hypothesis (가정) and Cost\n",
        "$$ y_{hypo} = H(x) = w \\cdot x + b $$\n",
        "* Linear(선형)임을 가정한 경우 위 수식을 만족해야한다\n",
        "* data가 3개인 경우,\n",
        "  $$\\begin{bmatrix} y_1 \\\\ y_2 \\\\ y_3 \\end{bmatrix} =  w \\cdot \\begin{bmatrix} x_1 \\\\ x_2 \\\\ x_3 \\end{bmatrix} + b $$\n",
        "  + 이를 만족하는 $w$와 $b$를 구해야 한다\n",
        "* Cost function으로 Mean-Square-Error를 이용한다\n",
        "$$ \\frac{1}{N} \\sum_{n=1}^{n=N} (y_{hypo, (n)} - y_{train, (n)})^2$$"
      ]
    },
    {
      "cell_type": "code",
      "metadata": {
        "colab": {
          "base_uri": "https://localhost:8080/"
        },
        "id": "m_NA4ix0HdJw",
        "outputId": "14ccb45b-ac2b-40a8-8657-ddf2fca35382"
      },
      "source": [
        "# Model 초기화 (입력 dim, 출력 dim)\n",
        "model = nn.Linear(1, 1) # 1차 방정식 정의\n",
        "\n",
        "# Hypothesis 정의\n",
        "y_hypo = model(x_train) # x_train을 model에 넣어 학습을 진행한 결과 값을 y_hypo(가정)에 저장\n",
        "print(list(model.parameters())) # 파라미터들의 값들을 출력\n",
        "print(y_hypo) # y_hypo 출력\n",
        "\n",
        "# Cost(Mean Sqaure Error) 계산\n",
        "cost = func.mse_loss(y_hypo, y_train) # cost값을 구한다\n",
        "print(cost) # cost 출력"
      ],
      "execution_count": null,
      "outputs": [
        {
          "output_type": "stream",
          "name": "stdout",
          "text": [
            "[Parameter containing:\n",
            "tensor([[0.5153]], requires_grad=True), Parameter containing:\n",
            "tensor([-0.4414], requires_grad=True)]\n",
            "tensor([[0.0739],\n",
            "        [0.5891],\n",
            "        [1.1044]], grad_fn=<AddmmBackward0>)\n",
            "tensor(2.1471, grad_fn=<MseLossBackward0>)\n"
          ]
        }
      ]
    },
    {
      "cell_type": "markdown",
      "metadata": {
        "id": "6xTxG_amCwbD"
      },
      "source": [
        "### 3 Cost Optimization\n",
        "* Optimizer로 stochastic gradient descent를 이용한다"
      ]
    },
    {
      "cell_type": "code",
      "metadata": {
        "id": "4nLfC1Ko2d9g"
      },
      "source": [
        "# Optimizer 설정 (learning rate = 0.01로 설정)\n",
        "optimizer = opt.SGD(model.parameters(), lr=0.01)"
      ],
      "execution_count": null,
      "outputs": []
    },
    {
      "cell_type": "code",
      "metadata": {
        "colab": {
          "base_uri": "https://localhost:8080/"
        },
        "id": "L1y0Pa_fC-sE",
        "outputId": "7663b875-d663-4241-f793-98f0b10ab58c"
      },
      "source": [
        "# 반복\n",
        "for epoch in range(1000): # 1000번 반복\n",
        "\n",
        "  # Cost 계산 / mse_loss(가정에의한값, 참값)\n",
        "  y_hypo = model(x_train)\n",
        "  cost = func.mse_loss(y_hypo, y_train)\n",
        "\n",
        "  # cost를 이용해 model update\n",
        "  optimizer.zero_grad()\n",
        "  cost.backward()\n",
        "  optimizer.step()\n",
        "\n",
        "  # 100번 마다 중간결과 출력\n",
        "  if epoch % 100 == 99:\n",
        "    params = list(model.parameters())\n",
        "    w = params[0].item()\n",
        "    b = params[1].item()\n",
        "    print('Epoch {:4d}/{} w: {:.3f} b: {:.3f} Cost: {:.6f}'.format(\n",
        "        epoch+1, 1000, w, b, cost.item()\n",
        "    ))"
      ],
      "execution_count": null,
      "outputs": [
        {
          "output_type": "stream",
          "name": "stdout",
          "text": [
            "Epoch  100/1000 w: 1.066 b: -0.150 Cost: 0.003255\n",
            "Epoch  200/1000 w: 1.052 b: -0.118 Cost: 0.002011\n",
            "Epoch  300/1000 w: 1.041 b: -0.093 Cost: 0.001243\n",
            "Epoch  400/1000 w: 1.032 b: -0.073 Cost: 0.000768\n",
            "Epoch  500/1000 w: 1.025 b: -0.057 Cost: 0.000475\n",
            "Epoch  600/1000 w: 1.020 b: -0.045 Cost: 0.000293\n",
            "Epoch  700/1000 w: 1.016 b: -0.035 Cost: 0.000181\n",
            "Epoch  800/1000 w: 1.012 b: -0.028 Cost: 0.000112\n",
            "Epoch  900/1000 w: 1.010 b: -0.022 Cost: 0.000069\n",
            "Epoch 1000/1000 w: 1.008 b: -0.017 Cost: 0.000043\n"
          ]
        }
      ]
    },
    {
      "cell_type": "markdown",
      "metadata": {
        "id": "zgw_2tAt4kh0"
      },
      "source": [
        "### 4 Multivariable Linear Regression\n",
        "$$ y_{hypo} = H(\\textbf{x}) = \\textbf{W} \\cdot \\textbf{x} + b $$\n",
        "* Linear(선형)임을 가정한 경우 위 수식을 만족해야한다\n",
        "  $$ y_{hypo} = \\begin{bmatrix} w_{1} && w_{2} && w_{3} \\end{bmatrix}  \\cdot \\begin{bmatrix} x_1 \\\\ x_2 \\\\ x_3 \\end{bmatrix} + \\begin{bmatrix} b \\end{bmatrix} $$\n",
        "  + MSE cost를 최소화하는 $w$와 $b$를 구해야 한다"
      ]
    },
    {
      "cell_type": "code",
      "metadata": {
        "colab": {
          "base_uri": "https://localhost:8080/"
        },
        "id": "XMMgAjeh45kP",
        "outputId": "de3cf5b3-10fe-42ec-a490-ba97e1da5216"
      },
      "source": [
        "# Numpy를 이용해 csv file을 ndarray로 가져오기\n",
        "dataset = np.loadtxt(\n",
        "    '/content/drive/MyDrive/data_linear_regression (1).csv',\n",
        "    delimiter=',',\n",
        "    dtype=np.float32)\n",
        "# 순서를 random으로 섞기\n",
        "np.random.shuffle(dataset)\n",
        "\n",
        "# torch tensor로 변환\n",
        "x_train = torch.FloatTensor(dataset[:,:-1]) # 데이터 set의 앞의 3개의 data를 x_train에 저장한다\n",
        "y_train = torch.FloatTensor(dataset[:,[-1]]) # 데이터 set의 뒤의 1개의 data를 y_train에 저장한다 (한묶음임을 표시하기 위해 한번 묶어주고 저장)\n",
        "\n",
        "# Linear model\n",
        "model = nn.Linear(3,1) # 입력값 3개 -> 출력값 1개\n",
        "print(list(model.parameters()))\n",
        "# Optimizer 설정\n",
        "optimizer = opt.SGD(model.parameters(), lr=0.00001)\n",
        "\n",
        "# 반복\n",
        "for epoch in range(1000): # 1000번 반\n",
        "  y_hypo = model(x_train)\n",
        "  cost = func.mse_loss(y_hypo, y_train)\n",
        "\n",
        "  # model update\n",
        "  optimizer.zero_grad()\n",
        "  cost.backward()\n",
        "  optimizer.step()\n",
        "\n",
        "  # 100번 마다 중간결과 출력\n",
        "  if epoch % 100 == 99:\n",
        "    print('Epoch {:4d}/{} Cost: {:.6f}'.format(epoch+1, 1000, cost.item()))\n",
        "\n",
        "print(y_hypo-y_train)\n"
      ],
      "execution_count": null,
      "outputs": [
        {
          "output_type": "stream",
          "name": "stdout",
          "text": [
            "[Parameter containing:\n",
            "tensor([[-0.1119,  0.2710, -0.5435]], requires_grad=True), Parameter containing:\n",
            "tensor([0.3462], requires_grad=True)]\n",
            "Epoch  100/1000 Cost: 27.945950\n",
            "Epoch  200/1000 Cost: 26.145176\n",
            "Epoch  300/1000 Cost: 24.495079\n",
            "Epoch  400/1000 Cost: 22.982944\n",
            "Epoch  500/1000 Cost: 21.597153\n",
            "Epoch  600/1000 Cost: 20.327076\n",
            "Epoch  700/1000 Cost: 19.162926\n",
            "Epoch  800/1000 Cost: 18.095854\n",
            "Epoch  900/1000 Cost: 17.117657\n",
            "Epoch 1000/1000 Cost: 16.220892\n",
            "tensor([[-6.4294],\n",
            "        [ 5.1373],\n",
            "        [ 1.0688],\n",
            "        [ 2.5786],\n",
            "        [-0.2428],\n",
            "        [-0.7313],\n",
            "        [ 3.0094],\n",
            "        [-1.6001],\n",
            "        [ 1.7373],\n",
            "        [ 2.0861],\n",
            "        [-5.1900],\n",
            "        [ 2.7283],\n",
            "        [ 5.7041],\n",
            "        [ 3.1929],\n",
            "        [-8.5924],\n",
            "        [-1.0264],\n",
            "        [-0.5103],\n",
            "        [-3.7555],\n",
            "        [-2.7923],\n",
            "        [ 3.7314],\n",
            "        [ 8.3312],\n",
            "        [ 2.9134],\n",
            "        [-4.2887],\n",
            "        [-4.5285],\n",
            "        [-2.3550]], grad_fn=<SubBackward0>)\n"
          ]
        }
      ]
    },
    {
      "cell_type": "code",
      "source": [
        "from google.colab import drive\n",
        "drive.mount('/content/drive')"
      ],
      "metadata": {
        "colab": {
          "base_uri": "https://localhost:8080/"
        },
        "id": "bB7gM0vKRIth",
        "outputId": "68510995-dcf1-4af8-ee63-fb4f999fa1e6"
      },
      "execution_count": null,
      "outputs": [
        {
          "output_type": "stream",
          "name": "stdout",
          "text": [
            "Drive already mounted at /content/drive; to attempt to forcibly remount, call drive.mount(\"/content/drive\", force_remount=True).\n"
          ]
        }
      ]
    },
    {
      "cell_type": "markdown",
      "metadata": {
        "id": "hc6TPzluWB1M"
      },
      "source": [
        "### 5 Assignment\n",
        "* 행렬 방정식 풀기\n",
        "  - 다음 행렬 방정식을 'Linear Regression'을 이용해 풀어보자\n",
        "    + 적당한 learning rate를 찾아 1000 epoch 정도 계산해본다\n",
        "    + 'Pseudo Inverse'를 이용한 풀이와 비교해본다\n",
        "  - Hint: y = wx 꼴로 변환해본다\n",
        "    + Ax=B에서는 x가 미지수이지만, y=wx에서는 w가 미지수임에 주의!\n",
        "    + linear model에서 b를 없애기 위해서 nn.Linear() 사용법을 검색해보자\n",
        "$$Ax=B$$\n",
        "$$A = \\begin{bmatrix}0 & 1 \\\\ 1 & 1 \\\\ 2 & 1 \\\\ 3 & 1 \\end{bmatrix} $$\n",
        "$$B = \\begin{bmatrix}-1 \\\\ 0.2 \\\\ 0.9 \\\\ 2.1 \\end{bmatrix} $$"
      ]
    },
    {
      "cell_type": "code",
      "source": [
        "import numpy as np\n",
        "import torch\n",
        "import torch.nn as nn\n",
        "import torch.nn.functional as func\n",
        "import torch.optim as opt\n",
        "\n",
        "A = torch.FloatTensor([[0,1],[1,1],[2,1],[3,1]]) # A를 배열의 형태로 수동 입력\n",
        "B = torch.FloatTensor([[-1],[0.2],[0.9],[2.1]]) # B를 배열의 형태로 수동 입력\n",
        "\n",
        "# Linear model\n",
        "model = nn.Linear(2, 1,bias=False) #  입력이 2개고 출력이 1개인 모델\n",
        "# b값을 없애고 싶으면, model = nn.Linear(2, 1,bias=False)로 작성\n",
        "\n",
        "# Optimizer 설정\n",
        "optimizer = opt.SGD(model.parameters(), lr=0.016) # 경사하강법을 이용하여 파라미터 값 지정하기, learning rate = 0.016\n",
        "\n",
        "# 반복\n",
        "for epoch in range(1000): #1000번 반복\n",
        "\n",
        "  # Cost 계산\n",
        "  B_hypo = model(A) # 모델을 통과한 A값을 B_hypo로 지정\n",
        "  cost = func.mse_loss(B_hypo, B) # B_hypo와 B 사이의 오차(cost) 구하기\n",
        "\n",
        "  # Model update\n",
        "  optimizer.zero_grad() # gradient 구하기 (미분을 통해 구한 기울기를 0으로 바꾸기)\n",
        "  cost.backward() # w와 b 업데이트하기\n",
        "  optimizer.step() # 역전파를 끄는 부분\n",
        "\n",
        "  # 100번 마다 중간결과 출력\n",
        "  if epoch % 100 == 99: # 10번 마다 결과 출력하기\n",
        "    params = list(model.parameters()) # 모델의 파라미터값들을 list 형태로 변환\n",
        "    w=params[0][0][0].item() # w값 = param 리스트에서 가장 첫번째 값 반환 [[[w,*][*,*]]]\n",
        "    b=params[0][0][1].item() # b값 = param 리스트에서 가장 안쪽 두번째 값 반환 [[[*,b],[*,*]]]\n",
        "\n",
        "    # w, b, cost값 출력\n",
        "    print('Epoch {:4d}/{} w: {:.3f} b: {:.3f} Cost: {:.6f}'.format(\n",
        "       epoch+1, 1000, w, b, cost.item()\n",
        "    ))"
      ],
      "metadata": {
        "colab": {
          "base_uri": "https://localhost:8080/"
        },
        "id": "4hvXA2GdRUa2",
        "outputId": "57b6925b-af0a-467f-bb0b-43315f2f4d18"
      },
      "execution_count": null,
      "outputs": [
        {
          "output_type": "stream",
          "name": "stdout",
          "text": [
            "Epoch  100/1000 w: 0.830 b: -0.175 Cost: 0.057081\n",
            "Epoch  200/1000 w: 0.966 b: -0.310 Cost: 0.014271\n",
            "Epoch  300/1000 w: 0.993 b: -0.338 Cost: 0.012570\n",
            "Epoch  400/1000 w: 0.999 b: -0.343 Cost: 0.012503\n",
            "Epoch  500/1000 w: 1.000 b: -0.344 Cost: 0.012500\n",
            "Epoch  600/1000 w: 1.000 b: -0.344 Cost: 0.012500\n",
            "Epoch  700/1000 w: 1.000 b: -0.344 Cost: 0.012500\n",
            "Epoch  800/1000 w: 1.000 b: -0.344 Cost: 0.012500\n",
            "Epoch  900/1000 w: 1.000 b: -0.344 Cost: 0.012500\n",
            "Epoch 1000/1000 w: 1.000 b: -0.344 Cost: 0.012500\n"
          ]
        }
      ]
    },
    {
      "cell_type": "markdown",
      "source": [
        "### 저번 과제와 비교"
      ],
      "metadata": {
        "id": "lNQWvSktSLsI"
      }
    },
    {
      "cell_type": "code",
      "source": [
        "import torch\n",
        "\n",
        "A = torch.FloatTensor([[0,1],[1,1],[2,1],[3,1]]) # A 행렬 선언\n",
        "b = torch.FloatTensor([-1,0.2,0.9,2.1]) # b 행렬 선언\n",
        "Tb = b.reshape(4,1) # 계산해주기 위해 b 행렬을 4,1로 reshape한 것을 Tb로 선언\n",
        "AA = (A.T).matmul(A) # trans한 A와 A를 곱한 것을 AA로 선언\n",
        "TAA = torch.inverse(AA) # AA의 역행렬을 구하고 그것을 TAA로 선언\n",
        "AT = A.T # A의 trans를 AT로 선언\n",
        "ATb = AT.matmul(Tb) # AT와 Tb의 곱을 ATb로 선언\n",
        "print(TAA.matmul(ATb)) # TAA와 ATb의 곱을 프린트함으로써 결과값 출력"
      ],
      "metadata": {
        "colab": {
          "base_uri": "https://localhost:8080/"
        },
        "id": "dXCdfo3NSO7s",
        "outputId": "8d3016f4-1e02-4dc2-f959-dddb781c035f"
      },
      "execution_count": null,
      "outputs": [
        {
          "output_type": "stream",
          "name": "stdout",
          "text": [
            "tensor([[ 1.0000],\n",
            "        [-0.9500]])\n"
          ]
        }
      ]
    },
    {
      "cell_type": "markdown",
      "source": [
        "저번 과제는 직접 수식을 이용하여 계산을 하는 방식으로 문제를 풀었지만 이번 과제는 수식을 사용하지 않고 방정식을 사용하여 오차를 줄여가는 방식으로 풀었다는 점이 차이점이다\n",
        "과정은 다르지만 결국은 비슷한 결과값을 가지는 것을 확인할 수 있다"
      ],
      "metadata": {
        "id": "ypF3NsKaSgsV"
      }
    }
  ]
}