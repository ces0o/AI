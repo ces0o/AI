{
  "nbformat": 4,
  "nbformat_minor": 0,
  "metadata": {
    "colab": {
      "provenance": []
    },
    "kernelspec": {
      "name": "python3",
      "display_name": "Python 3"
    },
    "language_info": {
      "name": "python"
    }
  },
  "cells": [
    {
      "cell_type": "markdown",
      "metadata": {
        "id": "Fy2_q1yA_eY2"
      },
      "source": [
        "# Tensor Manipulation\n",
        "\n",
        ""
      ]
    },
    {
      "cell_type": "markdown",
      "metadata": {
        "id": "kFWSw3mPzCd3"
      },
      "source": [
        "### Imports"
      ]
    },
    {
      "cell_type": "code",
      "metadata": {
        "id": "ePyjL-fEA4As"
      },
      "source": [
        "import numpy as np # numpy를 np로써 import 해온다\n",
        "import torch # torch를 import 해온다"
      ],
      "execution_count": null,
      "outputs": []
    },
    {
      "cell_type": "markdown",
      "metadata": {
        "id": "SH2RX5pEBB0H"
      },
      "source": [
        "### 1 Tensor in pytorch\n",
        "\n",
        "* Tensor?\n",
        "  + Vector (Rank = 1)  \n",
        "$$\\begin{bmatrix}1&2&3\\end{bmatrix}$$\n",
        "  + Matrix (Rank = 2)\n",
        "$$\\begin{bmatrix}1&2&3\\\\4&5&6\\end{bmatrix}$$\n",
        "  + Tensor (Rank > 2)\n",
        "    - 2D 화면에 표현하기 어렵다\n",
        "    - 머리속에 상상 가능하지만 개인차가 있음\n",
        "  + rank, shape, axis에 관한 수학적 정의를 시간날 때 마다 복습해 두는 것을 추천\n",
        "  + 관련 유튜브 영상도 많다"
      ]
    },
    {
      "cell_type": "code",
      "metadata": {
        "id": "HL2ZwVjWBCw7",
        "colab": {
          "base_uri": "https://localhost:8080/"
        },
        "outputId": "eea112f2-51f8-4a45-d35a-39aabed2926f"
      },
      "source": [
        "# Numpy와 비슷한 문법\n",
        "tensor = torch.FloatTensor([1, 2, 3, 4]) # 1차원 텐서 생성\n",
        "print(tensor) # tensor 출력\n",
        "print(tensor.shape) # tesor shape 출력\n",
        "print(tensor[1:3]) # 텐서의 1~2까지의 index값을 출력"
      ],
      "execution_count": null,
      "outputs": [
        {
          "output_type": "stream",
          "name": "stdout",
          "text": [
            "tensor([1., 2., 3., 4.])\n",
            "torch.Size([4])\n",
            "tensor([2., 3.])\n"
          ]
        }
      ]
    },
    {
      "cell_type": "code",
      "metadata": {
        "id": "xn_6C4fWBbUM",
        "colab": {
          "base_uri": "https://localhost:8080/"
        },
        "outputId": "77f64245-953a-41b4-91b5-018ca04ea6b5"
      },
      "source": [
        "# 3차원 이상\n",
        "tensor3d = torch.FloatTensor([ [[1, 2, 3, 4],\n",
        "                                [5, 6, 7, 8],\n",
        "                                [9, 10, 11, 12]],\n",
        "\n",
        "                               [[13, 14, 15, 16],\n",
        "                                [17, 18, 19, 20],\n",
        "                                [21, 22, 23, 24]] ]) # -> 3차원 tensor 출력\n",
        "print(tensor3d) # tensor3d 출력\n",
        "print(tensor3d.shape) # tensor3d의 Shape 출력"
      ],
      "execution_count": null,
      "outputs": [
        {
          "output_type": "stream",
          "name": "stdout",
          "text": [
            "tensor([[[ 1.,  2.,  3.,  4.],\n",
            "         [ 5.,  6.,  7.,  8.],\n",
            "         [ 9., 10., 11., 12.]],\n",
            "\n",
            "        [[13., 14., 15., 16.],\n",
            "         [17., 18., 19., 20.],\n",
            "         [21., 22., 23., 24.]]])\n",
            "torch.Size([2, 3, 4])\n"
          ]
        }
      ]
    },
    {
      "cell_type": "markdown",
      "metadata": {
        "id": "bfef_frYE6yz"
      },
      "source": [
        "### 2 Tensor Combinations\n",
        "* Concatenation\n",
        "  + 경계를 무너뜨리며 붙인다\n",
        "  $$\\begin{bmatrix} 1 & 2 \\\\ 3 & 4 \\end{bmatrix} (\\cdot) \\begin{bmatrix} 5 & 6 \\\\ 7 & 8 \\end{bmatrix} \\rightarrow \\begin{bmatrix} 1 & 2 & 5 & 6 \\\\ 3 & 4 & 7 & 8 \\end{bmatrix}  $$"
      ]
    },
    {
      "cell_type": "code",
      "metadata": {
        "colab": {
          "base_uri": "https://localhost:8080/"
        },
        "id": "m_NA4ix0HdJw",
        "outputId": "5c583f9f-e3b2-4a99-bc4f-75ebbbe271ca"
      },
      "source": [
        "x = torch.FloatTensor([[1, 2], [3, 4]]) # 텐서 생성해서 x변수에 대입\n",
        "y = torch.FloatTensor([[5, 6], [7, 8]]) # 텐서 생성해서 y변수에 대입\n",
        "print(x) # x 출력\n",
        "print(y) # y 출력\n",
        "print(torch.cat([x,y], dim = 0)) # 차원 0 (가장 큰 덩어리)를 기준으로 경계를 무너뜨리면서 x와 y를 합친다\n",
        "print(torch.cat([x,y], dim = 1)) # 차원 1 (다음으로 가장 큰 덩어리)를 기준으로 경계를 무너뜨리면서 x와 y를 합친다"
      ],
      "execution_count": null,
      "outputs": [
        {
          "output_type": "stream",
          "name": "stdout",
          "text": [
            "tensor([[1., 2.],\n",
            "        [3., 4.]])\n",
            "tensor([[5., 6.],\n",
            "        [7., 8.]])\n",
            "tensor([[1., 2.],\n",
            "        [3., 4.],\n",
            "        [5., 6.],\n",
            "        [7., 8.]])\n",
            "tensor([[1., 2., 5., 6.],\n",
            "        [3., 4., 7., 8.]])\n"
          ]
        }
      ]
    },
    {
      "cell_type": "markdown",
      "metadata": {
        "id": "Zn9qDxUgHutc"
      },
      "source": [
        "* Stack\n",
        "  + 경계를 구분한 채로 붙인다\n",
        "  $$\\begin{bmatrix} 1 & 2 \\\\ 3 & 4 \\end{bmatrix} (*) \\begin{bmatrix} 5 & 6 \\\\ 7 & 8 \\end{bmatrix} \\rightarrow \\begin{bmatrix} \\begin{bmatrix} 1 & 2 \\\\ 3 & 4 \\end{bmatrix} & \\begin{bmatrix} 5 & 6 \\\\ 7 & 8 \\end{bmatrix} \\end{bmatrix}  $$"
      ]
    },
    {
      "cell_type": "code",
      "metadata": {
        "colab": {
          "base_uri": "https://localhost:8080/"
        },
        "id": "cHd-e6EcHzgV",
        "outputId": "d746d0c0-dc18-4e84-bf15-302280442713"
      },
      "source": [
        "print(torch.stack([x,y], dim = 0)) # 차원0을 기준으로 경계를 구분한 채로 합친다\n",
        "print(torch.stack([x,y], dim = 1)) # 차워 1을 기준으로 경계를 구분한 채로 합친다"
      ],
      "execution_count": null,
      "outputs": [
        {
          "output_type": "stream",
          "name": "stdout",
          "text": [
            "tensor([[[1., 2.],\n",
            "         [3., 4.]],\n",
            "\n",
            "        [[5., 6.],\n",
            "         [7., 8.]]])\n",
            "tensor([[[1., 2.],\n",
            "         [5., 6.]],\n",
            "\n",
            "        [[3., 4.],\n",
            "         [7., 8.]]])\n"
          ]
        }
      ]
    },
    {
      "cell_type": "markdown",
      "metadata": {
        "id": "nDh12WxuPrhf"
      },
      "source": [
        "* View / Reshape\n",
        "  + data를 유지한 채 shape을 변형한다\n",
        "    - Pointer를 반환하므로 원본을 훼손하지 않으려면 복사본을 이용한다"
      ]
    },
    {
      "cell_type": "code",
      "metadata": {
        "colab": {
          "base_uri": "https://localhost:8080/"
        },
        "id": "_ljoWCY7P4P9",
        "outputId": "85f472da-d424-48ca-8beb-d8779e97504e"
      },
      "source": [
        "x = torch.rand(2, 3, 4)  # [2, 3, 4]\n",
        "y = x.view(2, -1)  # [2, 12] -> -1은 변형할 수 있는 선에서 제일 최대로 변형하라는 의미\n",
        "z = x.reshape(2, -1) # [2, 12]\n",
        "print(x) # x출력\n",
        "print(y) # y출력\n",
        "print(z) # z출력\n",
        "z[0] = 0.0 # z의 한 덩어리를 모두 0.0 실수로 변환\n",
        "print(x) # x출력"
      ],
      "execution_count": null,
      "outputs": [
        {
          "output_type": "stream",
          "name": "stdout",
          "text": [
            "tensor([[[0.5022, 0.5057, 0.8796, 0.0525],\n",
            "         [0.8836, 0.7124, 0.8465, 0.8862],\n",
            "         [0.7256, 0.5428, 0.9198, 0.6916]],\n",
            "\n",
            "        [[0.4527, 0.6195, 0.5849, 0.9043],\n",
            "         [0.7626, 0.5965, 0.5295, 0.8113],\n",
            "         [0.2377, 0.9379, 0.9978, 0.6270]]])\n",
            "tensor([[0.5022, 0.5057, 0.8796, 0.0525, 0.8836, 0.7124, 0.8465, 0.8862, 0.7256,\n",
            "         0.5428, 0.9198, 0.6916],\n",
            "        [0.4527, 0.6195, 0.5849, 0.9043, 0.7626, 0.5965, 0.5295, 0.8113, 0.2377,\n",
            "         0.9379, 0.9978, 0.6270]])\n",
            "tensor([[0.5022, 0.5057, 0.8796, 0.0525, 0.8836, 0.7124, 0.8465, 0.8862, 0.7256,\n",
            "         0.5428, 0.9198, 0.6916],\n",
            "        [0.4527, 0.6195, 0.5849, 0.9043, 0.7626, 0.5965, 0.5295, 0.8113, 0.2377,\n",
            "         0.9379, 0.9978, 0.6270]])\n",
            "tensor([[[0.0000, 0.0000, 0.0000, 0.0000],\n",
            "         [0.0000, 0.0000, 0.0000, 0.0000],\n",
            "         [0.0000, 0.0000, 0.0000, 0.0000]],\n",
            "\n",
            "        [[0.4527, 0.6195, 0.5849, 0.9043],\n",
            "         [0.7626, 0.5965, 0.5295, 0.8113],\n",
            "         [0.2377, 0.9379, 0.9978, 0.6270]]])\n"
          ]
        }
      ]
    },
    {
      "cell_type": "markdown",
      "metadata": {
        "id": "8AbQ5LxNo3G6"
      },
      "source": [
        "* Squeeze\n",
        "  + 불필요한 rank를 줄인다"
      ]
    },
    {
      "cell_type": "code",
      "metadata": {
        "colab": {
          "base_uri": "https://localhost:8080/"
        },
        "id": "C2b7IPjeo-gh",
        "outputId": "c3a46e9c-ec42-4b2e-c96c-4e9db970d75b"
      },
      "source": [
        "_data = np.array([1,2,3,4]) # 배열 선언\n",
        "x = torch.from_numpy(_data) # x에 저장\n",
        "print(x) # x 출력\n",
        "print(x.T) # transpose한 배열 출력 하지만 1차원이기 때문에 trans할게 없기 때문에 그대로 출력이 된다\n",
        "_data = np.array([_data]) # 한 덩어리를 더 만든다 (transpose하기 위해서)\n",
        "x = torch.from_numpy(_data) # x에 저장\n",
        "print(x) # x 출력\n",
        "print(x.T) # trans\n",
        "print(x.T.squeeze()) # 불필요한 덩어리를 지우기 위해 rank 사용"
      ],
      "execution_count": null,
      "outputs": [
        {
          "output_type": "stream",
          "name": "stdout",
          "text": [
            "tensor([1, 2, 3, 4])\n",
            "tensor([1, 2, 3, 4])\n",
            "tensor([[1, 2, 3, 4]])\n",
            "tensor([[1],\n",
            "        [2],\n",
            "        [3],\n",
            "        [4]])\n",
            "tensor([1, 2, 3, 4])\n"
          ]
        }
      ]
    },
    {
      "cell_type": "markdown",
      "metadata": {
        "id": "6xTxG_amCwbD"
      },
      "source": [
        "### 3 Tensor Operations\n",
        "* 사칙연산 - 요소별(Element-wise) 연산"
      ]
    },
    {
      "cell_type": "code",
      "metadata": {
        "colab": {
          "base_uri": "https://localhost:8080/"
        },
        "id": "L1y0Pa_fC-sE",
        "outputId": "353e2509-f26e-4b98-e349-0f0fe51da53f"
      },
      "source": [
        "# 요소별 곱셈\n",
        "print(tensor)\n",
        "print(tensor3d)\n",
        "print(tensor * tensor3d) # 곱하기"
      ],
      "execution_count": null,
      "outputs": [
        {
          "output_type": "stream",
          "name": "stdout",
          "text": [
            "tensor([1., 2., 3., 4.])\n",
            "tensor([[[ 1.,  2.,  3.,  4.],\n",
            "         [ 5.,  6.,  7.,  8.],\n",
            "         [ 9., 10., 11., 12.]],\n",
            "\n",
            "        [[13., 14., 15., 16.],\n",
            "         [17., 18., 19., 20.],\n",
            "         [21., 22., 23., 24.]]])\n",
            "tensor([[[ 1.,  4.,  9., 16.],\n",
            "         [ 5., 12., 21., 32.],\n",
            "         [ 9., 20., 33., 48.]],\n",
            "\n",
            "        [[13., 28., 45., 64.],\n",
            "         [17., 36., 57., 80.],\n",
            "         [21., 44., 69., 96.]]])\n"
          ]
        }
      ]
    },
    {
      "cell_type": "code",
      "metadata": {
        "colab": {
          "base_uri": "https://localhost:8080/"
        },
        "id": "tpuejCRdDMe1",
        "outputId": "698da6c1-6ac9-46b3-fae1-0323a4e49b26"
      },
      "source": [
        "# 상수 덧셈\n",
        "print(tensor3d + 3) # 더하기"
      ],
      "execution_count": null,
      "outputs": [
        {
          "output_type": "stream",
          "name": "stdout",
          "text": [
            "tensor([[[ 4.,  5.,  6.,  7.],\n",
            "         [ 8.,  9., 10., 11.],\n",
            "         [12., 13., 14., 15.]],\n",
            "\n",
            "        [[16., 17., 18., 19.],\n",
            "         [20., 21., 22., 23.],\n",
            "         [24., 25., 26., 27.]]])\n"
          ]
        }
      ]
    },
    {
      "cell_type": "code",
      "metadata": {
        "colab": {
          "base_uri": "https://localhost:8080/"
        },
        "id": "fWRvvUjhDQE7",
        "outputId": "9ad027e6-a3a8-4ad9-d682-b0b47f64ea16"
      },
      "source": [
        "# tensor 덧셈\n",
        "tensor_a = torch.FloatTensor([1, 2, 3, 4])\n",
        "tensor_b = torch.FloatTensor([[1], [2], [3]])\n",
        "tensor_c = torch.FloatTensor([[[1]],[[2]]]) -> 기존 행렬에 더할 행렬들 각각 선언\n",
        "print(tensor3d)\n",
        "print(tensor3d + tensor_a) # 더하기\n",
        "print(tensor3d + tensor_b)\n",
        "print(tensor3d + tensor_c)"
      ],
      "execution_count": null,
      "outputs": [
        {
          "output_type": "stream",
          "name": "stdout",
          "text": [
            "tensor([[[ 1.,  2.,  3.,  4.],\n",
            "         [ 5.,  6.,  7.,  8.],\n",
            "         [ 9., 10., 11., 12.]],\n",
            "\n",
            "        [[13., 14., 15., 16.],\n",
            "         [17., 18., 19., 20.],\n",
            "         [21., 22., 23., 24.]]])\n",
            "tensor([[[ 2.,  4.,  6.,  8.],\n",
            "         [ 6.,  8., 10., 12.],\n",
            "         [10., 12., 14., 16.]],\n",
            "\n",
            "        [[14., 16., 18., 20.],\n",
            "         [18., 20., 22., 24.],\n",
            "         [22., 24., 26., 28.]]])\n",
            "tensor([[[ 2.,  3.,  4.,  5.],\n",
            "         [ 7.,  8.,  9., 10.],\n",
            "         [12., 13., 14., 15.]],\n",
            "\n",
            "        [[14., 15., 16., 17.],\n",
            "         [19., 20., 21., 22.],\n",
            "         [24., 25., 26., 27.]]])\n",
            "tensor([[[ 2.,  3.,  4.,  5.],\n",
            "         [ 6.,  7.,  8.,  9.],\n",
            "         [10., 11., 12., 13.]],\n",
            "\n",
            "        [[15., 16., 17., 18.],\n",
            "         [19., 20., 21., 22.],\n",
            "         [23., 24., 25., 26.]]])\n"
          ]
        }
      ]
    },
    {
      "cell_type": "markdown",
      "metadata": {
        "id": "A5WLcAaUDupg"
      },
      "source": [
        "* Tensor transpose\n",
        "  + shape(2, 3, 4) >> shape(4, 3, 2)\n",
        "  + 3차원의 경우, 머릿속으로 상상하기 힘들다\n"
      ]
    },
    {
      "cell_type": "code",
      "metadata": {
        "colab": {
          "base_uri": "https://localhost:8080/"
        },
        "id": "k4go1r1QDyJF",
        "outputId": "4879d832-0c67-4a5b-a340-7634b9ff2fc1"
      },
      "source": [
        "print(tensor3d)\n",
        "print(tensor3d.T) # transpose한 행렬 출력"
      ],
      "execution_count": null,
      "outputs": [
        {
          "output_type": "stream",
          "name": "stdout",
          "text": [
            "tensor([[[ 1.,  2.,  3.,  4.],\n",
            "         [ 5.,  6.,  7.,  8.],\n",
            "         [ 9., 10., 11., 12.]],\n",
            "\n",
            "        [[13., 14., 15., 16.],\n",
            "         [17., 18., 19., 20.],\n",
            "         [21., 22., 23., 24.]]])\n",
            "tensor([[[ 1., 13.],\n",
            "         [ 5., 17.],\n",
            "         [ 9., 21.]],\n",
            "\n",
            "        [[ 2., 14.],\n",
            "         [ 6., 18.],\n",
            "         [10., 22.]],\n",
            "\n",
            "        [[ 3., 15.],\n",
            "         [ 7., 19.],\n",
            "         [11., 23.]],\n",
            "\n",
            "        [[ 4., 16.],\n",
            "         [ 8., 20.],\n",
            "         [12., 24.]]])\n"
          ]
        }
      ]
    },
    {
      "cell_type": "markdown",
      "metadata": {
        "id": "QCWTE2lLDSWN"
      },
      "source": [
        "* Tensor dot product\n",
        "  + 마찬가지로 3차원의 경우, 머릿속으로 상상하기 힘들기 때문에 수식에 오류가 없음을 반드시 확인해야한다\n",
        "  + shape(2,3,4) * shape(4) >> shape(2,3)\n",
        "\n"
      ]
    },
    {
      "cell_type": "code",
      "metadata": {
        "colab": {
          "base_uri": "https://localhost:8080/"
        },
        "id": "LfBCsEPqDcQ0",
        "outputId": "f2441b25-cd43-4338-b37c-9c88c36fa97c"
      },
      "source": [
        "print(tensor3d.matmul(tensor)) # 곱한다"
      ],
      "execution_count": null,
      "outputs": [
        {
          "output_type": "stream",
          "name": "stdout",
          "text": [
            "tensor([[ 30.,  70., 110.],\n",
            "        [150., 190., 230.]])\n",
            "tensor([[[ 30.],\n",
            "         [ 70.],\n",
            "         [110.]],\n",
            "\n",
            "        [[150.],\n",
            "         [190.],\n",
            "         [230.]]])\n",
            "tensor([[ 30.,  70., 110.],\n",
            "        [150., 190., 230.]])\n"
          ]
        }
      ]
    },
    {
      "cell_type": "markdown",
      "metadata": {
        "id": "jKTf8seEDqRq"
      },
      "source": [
        "* Mean, Sum, Max"
      ]
    },
    {
      "cell_type": "code",
      "metadata": {
        "colab": {
          "base_uri": "https://localhost:8080/"
        },
        "id": "3NZwlwbhECgX",
        "outputId": "1ff60d30-22ec-4064-cad3-49390b4827b2"
      },
      "source": [
        "print(tensor3d)\n",
        "print(tensor3d.mean())\n",
        "print(tensor3d.shape)\n",
        "print(tensor3d.mean(dim=0)) # dim 0을 기준으로 그 dim끼리의 평균을 구함\n",
        "print(tensor3d.mean(dim=1)) # dim 1을 기준으로 그 dim끼리의 평균을 구함\n",
        "print(tensor3d.mean(dim=2)) # dim 2을 기준으로 그 dim끼리의 평균을 구함"
      ],
      "execution_count": null,
      "outputs": [
        {
          "output_type": "stream",
          "name": "stdout",
          "text": [
            "tensor([[[ 1.,  2.,  3.,  4.],\n",
            "         [ 5.,  6.,  7.,  8.],\n",
            "         [ 9., 10., 11., 12.]],\n",
            "\n",
            "        [[13., 14., 15., 16.],\n",
            "         [17., 18., 19., 20.],\n",
            "         [21., 22., 23., 24.]]])\n",
            "tensor(12.5000)\n",
            "torch.Size([2, 3, 4])\n",
            "tensor([[ 7.,  8.,  9., 10.],\n",
            "        [11., 12., 13., 14.],\n",
            "        [15., 16., 17., 18.]])\n",
            "tensor([[ 5.,  6.,  7.,  8.],\n",
            "        [17., 18., 19., 20.]])\n",
            "tensor([[ 2.5000,  6.5000, 10.5000],\n",
            "        [14.5000, 18.5000, 22.5000]])\n"
          ]
        }
      ]
    },
    {
      "cell_type": "code",
      "metadata": {
        "colab": {
          "base_uri": "https://localhost:8080/"
        },
        "id": "twG408GcEN_2",
        "outputId": "24004ae7-a529-4033-88d2-6714ac2b1d33"
      },
      "source": [
        "print(tensor3d.sum()) # 행렬 요소의 모든 값을 더한다\n",
        "print(tensor3d.sum(dim=0)) # dim 0에만 더한다"
      ],
      "execution_count": null,
      "outputs": [
        {
          "output_type": "stream",
          "name": "stdout",
          "text": [
            "tensor(300.)\n",
            "tensor([[14., 16., 18., 20.],\n",
            "        [22., 24., 26., 28.],\n",
            "        [30., 32., 34., 36.]])\n"
          ]
        }
      ]
    },
    {
      "cell_type": "code",
      "metadata": {
        "colab": {
          "base_uri": "https://localhost:8080/"
        },
        "id": "6JKupxrWEUaR",
        "outputId": "781cb0c7-39c9-4595-cbbc-41af8afab132"
      },
      "source": [
        "print(tensor3d.max()) # 행렬의 가장 큰 값 출력\n",
        "print(tensor3d.max(dim=1)) # dim1중에서 가장 큰 값 출력\n",
        "values, indices = tensor3d.max(dim=1)\n",
        "print(values)"
      ],
      "execution_count": null,
      "outputs": [
        {
          "output_type": "stream",
          "name": "stdout",
          "text": [
            "tensor(24.)\n",
            "torch.return_types.max(\n",
            "values=tensor([[ 9., 10., 11., 12.],\n",
            "        [21., 22., 23., 24.]]),\n",
            "indices=tensor([[2, 2, 2, 2],\n",
            "        [2, 2, 2, 2]]))\n",
            "tensor([[ 9., 10., 11., 12.],\n",
            "        [21., 22., 23., 24.]])\n"
          ]
        }
      ]
    },
    {
      "cell_type": "markdown",
      "metadata": {
        "id": "D-an8PPOTMQH"
      },
      "source": [
        "* 역행렬"
      ]
    },
    {
      "cell_type": "code",
      "metadata": {
        "colab": {
          "base_uri": "https://localhost:8080/"
        },
        "id": "XU5aFq6WTPfh",
        "outputId": "56afd2ed-c4ee-4d49-8572-75d0b09ceec8"
      },
      "source": [
        "tensor_square = torch.FloatTensor([[1, 7], [-4, 6]])\n",
        "print(torch.inverse(tensor_square)) # 역행렬 출력"
      ],
      "execution_count": null,
      "outputs": [
        {
          "output_type": "stream",
          "name": "stdout",
          "text": [
            "tensor([[ 0.1765, -0.2059],\n",
            "        [ 0.1176,  0.0294]])\n"
          ]
        }
      ]
    },
    {
      "cell_type": "markdown",
      "metadata": {
        "id": "GJiscTiDI9lq"
      },
      "source": [
        "### 4 실습 (Assignment 6)\n",
        "* 행렬 방정식 풀기 (단, Pytorch만을 사용한다)\n",
        "  - 다음 행렬 방정식을 'Pseudo inverse matrix'를 이용해 풀어보자\n",
        "  - $A^{T}A$의 역행렬이 존재한다고 가정\n",
        "$$Ax=B$$\n",
        "$$A = \\begin{bmatrix}0 & 1 \\\\ 1 & 1 \\\\ 2 & 1 \\\\ 3 & 1 \\end{bmatrix} $$\n",
        "$$B = \\begin{bmatrix}-1 \\\\ 0.2 \\\\ 0.9 \\\\ 2.1 \\end{bmatrix} $$\n"
      ]
    },
    {
      "cell_type": "code",
      "source": [
        "import torch\n",
        "\n",
        "A = torch.FloatTensor([[0,1],[1,1],[2,1],[3,1]]) # A 행렬 선언\n",
        "b = torch.FloatTensor([-1,0.2,0.9,2.1]) # b 행렬 선언\n",
        "Tb = b.reshape(4,1) # 계산해주기 위해 b 행렬을 4,1로 reshape한 것을 Tb로 선언\n",
        "AA = (A.T).matmul(A) # trans한 A와 A를 곱한 것을 AA로 선언\n",
        "TAA = torch.inverse(AA) # AA의 역행렬을 구하고 그것을 TAA로 선언\n",
        "AT = A.T # A의 trans를 AT로 선언\n",
        "ATb = AT.matmul(Tb) # AT와 Tb의 곱을 ATb로 선언\n",
        "print(TAA.matmul(ATb)) # TAA와 ATb의 곱을 프린트함으로써 결과값 출력"
      ],
      "metadata": {
        "colab": {
          "base_uri": "https://localhost:8080/"
        },
        "id": "eYKdWlrCcuXG",
        "outputId": "a7243533-2151-4ea2-b9bd-4cc00d78256b"
      },
      "execution_count": 1,
      "outputs": [
        {
          "output_type": "stream",
          "name": "stdout",
          "text": [
            "tensor([[ 1.0000],\n",
            "        [-0.9500]])\n"
          ]
        }
      ]
    }
  ]
}