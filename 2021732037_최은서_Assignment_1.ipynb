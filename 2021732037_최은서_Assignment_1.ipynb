{
  "nbformat": 4,
  "nbformat_minor": 0,
  "metadata": {
    "colab": {
      "provenance": []
    },
    "kernelspec": {
      "name": "python3",
      "display_name": "Python 3"
    },
    "language_info": {
      "name": "python"
    }
  },
  "cells": [
    {
      "cell_type": "code",
      "execution_count": null,
      "metadata": {
        "id": "V3zgu9ExLA19"
      },
      "outputs": [],
      "source": []
    },
    {
      "cell_type": "markdown",
      "source": [
        "#**Assignment1 - Readme.md 파일 만들기**\n",
        "---\n",
        "\n",
        "By 최은서  \n",
        "인공지능응용 첫 번째 과제  \n",
        "#Technologies Used\n",
        "* Google Colab\n",
        "* Jupyter Notebook\n",
        "* Markdown\n",
        "\n",
        "#Description\n",
        "이 과제에서는 Open source 공유시 활용되는 일반적인 Readme.md 파일 양식을 흉내내어 직접 markdown 파일을 작성해보고 markdown의 기본 문법을 복습합니다.  \n",
        "이 문서는 Google Colab에서 Markdown 문법을 이용해 작성되었습니다.\n",
        "#Setup/Installation Requirements\n",
        "* Google 계정 생성 및 Colab 로그인\n",
        "* 새로운 노트 생성\n",
        "  * 새로운 노트의 파일명을 **학번_이름_Assignment_1.ipynb**로 변경\n",
        "* 해당 노트를 다운로드한 후 KLAS에서 과제로 제출\n",
        "#Image example\n",
        "* 이미지 띄어보기 연습\n",
        "\n",
        "<img src = \"https://drive.google.com/uc?id=1NaeVjIXGWXBwQaXdeTRRTIAwW8zv07Aw\" height = 300 width = 500>\n",
        "\n",
        "#Table example\n",
        "* 표 그리기 연습\n",
        "\n",
        "|품목|단가|개수|금액|\n",
        "|:---|---:|:---:|---:|\n",
        "|브로콜리|1,500|5|7,500|\n",
        "|가지|1,000|10|10,000|\n",
        "|아스파라거스|1,000|15|15,000|\n",
        "\n",
        "#Equation example\n",
        "* 수식 표시 연습\n",
        "$$\n",
        "f(x)=\\int_0^{10}\\ \\frac{2x^2+4x+6}{x-2}\n",
        "$$\n",
        "\n",
        "#Known Bugs\n",
        " + 알려진 <u>버그</u> 없음\n",
        "\n",
        "#License\n",
        "> [MIT License](https://opensource.org/licenses/MIT)  \n",
        "\n",
        "Copyright (c) 2022 Ki-Baek Lee"
      ],
      "metadata": {
        "id": "gG9s72QALBtZ"
      }
    }
  ]
}