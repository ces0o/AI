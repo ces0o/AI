{
  "nbformat": 4,
  "nbformat_minor": 0,
  "metadata": {
    "colab": {
      "provenance": []
    },
    "kernelspec": {
      "name": "python3",
      "display_name": "Python 3"
    },
    "language_info": {
      "name": "python"
    }
  },
  "cells": [
    {
      "cell_type": "markdown",
      "metadata": {
        "id": "Fy2_q1yA_eY2"
      },
      "source": [
        "# Multinomial Classification\n",
        "\n",
        ""
      ]
    },
    {
      "cell_type": "markdown",
      "metadata": {
        "id": "kFWSw3mPzCd3"
      },
      "source": [
        "### Imports"
      ]
    },
    {
      "cell_type": "code",
      "metadata": {
        "id": "ePyjL-fEA4As",
        "colab": {
          "base_uri": "https://localhost:8080/"
        },
        "outputId": "9a96462a-0204-4418-9aed-eb469d03fb05"
      },
      "source": [
        "import numpy as np # numpy를 np로써 불러온다\n",
        "import torch # torch를 import\n",
        "import torch.nn as nn # torch.nn을 nn으로써 불러온다\n",
        "import torch.nn.functional as func # torch.nn.functional를 func로써 불러온다\n",
        "import torch.optim as opt # torch.optim를 opt로써 불러온다\n",
        "\n",
        "from google.colab import drive\n",
        "drive.mount('/content/drive') # google로 mount하는 과정\n",
        "\n",
        "# Seed 고정\n",
        "torch.manual_seed(1)"
      ],
      "execution_count": 2,
      "outputs": [
        {
          "output_type": "stream",
          "name": "stdout",
          "text": [
            "Mounted at /content/drive\n"
          ]
        },
        {
          "output_type": "execute_result",
          "data": {
            "text/plain": [
              "<torch._C.Generator at 0x7dadd870c050>"
            ]
          },
          "metadata": {},
          "execution_count": 2
        }
      ]
    },
    {
      "cell_type": "markdown",
      "metadata": {
        "id": "SH2RX5pEBB0H"
      },
      "source": [
        "### 1 Data loading\n",
        "| $x_1$ | $x_2$ | $x_3$ | $x_4$ | $y$ |\n",
        "|---|---|---|---|---|\n",
        "| 1 | 2 | 1 | 1 | 2 |\n",
        "| 2 | 1 | 3 | 2 | 2 |\n",
        "| 3 | 1 | 3 | 4 | 2 |\n",
        "| 4 | 1 | 5 | 5 | 1 |\n",
        "| 1 | 7 | 5 | 5 | 1 |\n",
        "| 1 | 2 | 5 | 6 | 1 |\n",
        "| 1 | 6 | 6 | 6 | 0 |\n",
        "| 1 | 7 | 7 | 7 | 0 |"
      ]
    },
    {
      "cell_type": "code",
      "metadata": {
        "id": "HL2ZwVjWBCw7",
        "colab": {
          "base_uri": "https://localhost:8080/"
        },
        "outputId": "b1c996ab-b596-4c72-a967-c136ec924bcb"
      },
      "source": [
        "# Data 수동으로 입력하기\n",
        "x_train = torch.FloatTensor([[1, 2, 1, 1], [2, 1, 3, 2], [3, 1, 3, 4], [4, 1, 5, 5],\n",
        "               [1, 7, 5, 5], [1, 2, 5, 6], [1, 6, 6, 6], [1, 7, 7, 7]])\n",
        "y_train = torch.LongTensor([2, 2, 2, 1, 1, 1, 0, 0])\n",
        "\n",
        "print(x_train) # x_train 출력\n",
        "print(x_train.shape) # x_train 모양 출력\n",
        "print(y_train) # y_train 출력\n",
        "print(y_train.shape) # y_train 모양 출력\n",
        "\n",
        "# Model 초기화 (입력 dim, 출력 dim)\n",
        "model = nn.Linear(4, 3) # 4입력 -> 3출력"
      ],
      "execution_count": 3,
      "outputs": [
        {
          "output_type": "stream",
          "name": "stdout",
          "text": [
            "tensor([[1., 2., 1., 1.],\n",
            "        [2., 1., 3., 2.],\n",
            "        [3., 1., 3., 4.],\n",
            "        [4., 1., 5., 5.],\n",
            "        [1., 7., 5., 5.],\n",
            "        [1., 2., 5., 6.],\n",
            "        [1., 6., 6., 6.],\n",
            "        [1., 7., 7., 7.]])\n",
            "torch.Size([8, 4])\n",
            "tensor([2, 2, 2, 1, 1, 1, 0, 0])\n",
            "torch.Size([8])\n"
          ]
        }
      ]
    },
    {
      "cell_type": "markdown",
      "metadata": {
        "id": "bfef_frYE6yz"
      },
      "source": [
        "### 2 Hypothesis, Cost and Optimization\n",
        "* 다음 수식이 맞다고 가정한다\n",
        "$$ y_{hypo} = H(x) = Softmax( Linear(x) ) $$\n",
        "$$ Linear(x) = W \\cdot x + b $$\n",
        "$$ Softmax(X) = [y_1, ..., y_C], \\;\\; y_i = \\frac{e^{x_i}}{\\sum_{j=1}^C e^{x_j}} $$\n",
        "\n",
        "* Cost function으로 Cross Entropy를 이용한다\n",
        "$$ - \\sum_{i=1}^{C} y_{train, i}log(y_{hypo, i})$$\n",
        "\n",
        "* Pytorch의 cross entropy loss function에는 softmax가 이미 포함되어 있음에 주의!\n",
        "  + **그렇기 때문에, model을 그냥 linear model을 사용한다!**\n",
        "  + y_train 입력 형태는 class의 index이다 (onehot encoding을 해줄 필요 없다)"
      ]
    },
    {
      "cell_type": "code",
      "metadata": {
        "colab": {
          "base_uri": "https://localhost:8080/"
        },
        "id": "m_NA4ix0HdJw",
        "outputId": "a4eba0d0-767e-4d40-f951-e2b03ebaef9d"
      },
      "source": [
        "# Optimizer 설정 (learning rate = 0.1로 설정)\n",
        "optimizer = opt.SGD(model.parameters(), lr=0.1)\n",
        "\n",
        "# 1000번 반복한다\n",
        "for epoch in range(1000):\n",
        "\n",
        "  # Cost 계산 / mse_loss(가정에의한값, 참값)\n",
        "  y_hypo = model(x_train)\n",
        "  cost = func.cross_entropy(y_hypo, y_train)\n",
        "\n",
        "  # cost를 이용해 model update\n",
        "  optimizer.zero_grad()\n",
        "  cost.backward()\n",
        "  optimizer.step()\n",
        "\n",
        "  # 10번 마다 중간결과 출력\n",
        "  if epoch % 100 == 99:\n",
        "    correct_prediction = y_hypo.argmax(dim=1) == y_train\n",
        "    accuracy = correct_prediction.sum().item() / len(correct_prediction)\n",
        "    print('Epoch {:4d}/{} Cost: {:.6f} Accuracy {:2.2f}%'.format(\n",
        "            epoch, 1000, cost.item(), accuracy * 100,\n",
        "    ))"
      ],
      "execution_count": null,
      "outputs": [
        {
          "output_type": "stream",
          "name": "stdout",
          "text": [
            "Epoch   99/1000 Cost: 0.695567 Accuracy 75.00%\n",
            "Epoch  199/1000 Cost: 0.614224 Accuracy 75.00%\n",
            "Epoch  299/1000 Cost: 0.556557 Accuracy 75.00%\n",
            "Epoch  399/1000 Cost: 0.505776 Accuracy 87.50%\n",
            "Epoch  499/1000 Cost: 0.457821 Accuracy 87.50%\n",
            "Epoch  599/1000 Cost: 0.411135 Accuracy 87.50%\n",
            "Epoch  699/1000 Cost: 0.364998 Accuracy 87.50%\n",
            "Epoch  799/1000 Cost: 0.319251 Accuracy 87.50%\n",
            "Epoch  899/1000 Cost: 0.275260 Accuracy 87.50%\n",
            "Epoch  999/1000 Cost: 0.244028 Accuracy 100.00%\n"
          ]
        }
      ]
    },
    {
      "cell_type": "markdown",
      "metadata": {
        "id": "hc6TPzluWB1M"
      },
      "source": [
        "### 3 Assignment\n",
        "* Data 파일을 이용한 Multinomial Classification\n",
        "  - data_multinomial_classification.csv을 이용해 학습한다\n",
        "    + 16개의 input, 1개의 output\n",
        "    \n",
        "$$ [x_1, ... x_{16}, y] $$\n",
        "  - Accuracy 95% 이상을 달성한다"
      ]
    },
    {
      "cell_type": "code",
      "source": [
        "import numpy as np\n",
        "import torch\n",
        "import torch.nn as nn\n",
        "import torch.nn.functional as func\n",
        "import torch.optim as opt\n",
        "\n",
        "# 구글 드라이브 마운트\n",
        "from google.colab import drive\n",
        "drive.mount('/content/drive')"
      ],
      "metadata": {
        "colab": {
          "base_uri": "https://localhost:8080/"
        },
        "id": "dvdkli57Qyq3",
        "outputId": "fb3f779b-8323-463c-e72b-3ad3f02a1568"
      },
      "execution_count": 4,
      "outputs": [
        {
          "output_type": "stream",
          "name": "stdout",
          "text": [
            "Drive already mounted at /content/drive; to attempt to forcibly remount, call drive.mount(\"/content/drive\", force_remount=True).\n"
          ]
        }
      ]
    },
    {
      "cell_type": "code",
      "source": [
        "# Numpy를 이용해 csv file을 ndarray로 불러온다\n",
        "dataset = np.loadtxt(\n",
        "    '/content/drive/MyDrive/data_multinomial_classification.csv',  # 구글드라이브에 있는 파일 가져온다\n",
        "    delimiter=',', # 파일의 데이터를 ,(콤마) 형태로 구분한다\n",
        "    dtype=np.float32) # float 형태로 가져온다\n",
        "\n",
        "# random\n",
        "np.random.shuffle(dataset) # 순서를 random으로 섞기\n",
        "\n",
        "#데이터 셋 나누기\n",
        "x_train = torch.FloatTensor(dataset[:,:-1]) # 전체중에 앞에 16개는 x / 맨 마지막 한개 빼고 다 x_train\n",
        "y_train = torch.LongTensor(dataset[:,-1]) # 전체중에 뒤에 1개는 y / 묶어서 가져오면 안되기 때문에 [-1]을 해준다\n",
        "\n",
        "# Model 초기화 (입력 dim, 출력 dim)\n",
        "model = nn.Linear(16, 7) # 입력이 16, 출력은 7개\n",
        "\n",
        "# Optimizer 설정\n",
        "optimizer = opt.SGD(model.parameters(), lr=0.1) # SGD 함수를 이용하여 model의 parameters값 최적화. learning rate는 0.1"
      ],
      "metadata": {
        "id": "vamXoBoyRLko"
      },
      "execution_count": 5,
      "outputs": []
    },
    {
      "cell_type": "code",
      "source": [
        "# 반복\n",
        "for epoch in range(1000): # 1000번 반복\n",
        "\n",
        "  # Cost 계산 / mse_loss(가정에의한값, 참값)\n",
        "  y_hypo = model(x_train)\n",
        "  cost = func.cross_entropy(y_hypo, y_train)\n",
        "\n",
        "\n",
        "  optimizer.zero_grad() # gradient 초기화\n",
        "  cost.backward() # w와 b 기울기 업데이트\n",
        "  optimizer.step() # 모델을 수정하는 과정\n",
        "\n",
        "  # 10번 마다 중간결과 출력\n",
        "  if epoch % 100 == 99: # 나머지가 99일때 마다 출력한다\n",
        "    correct_prediction = y_hypo.argmax(dim=1) == y_train # argmax함수 = 백터중에 max값을 추출한다\n",
        "    accuracy = correct_prediction.sum().item() / len(correct_prediction)\n",
        "    print('Epoch {}/{} Cost: {:.6f} Accuracy {:2.2f}%'.format(\n",
        "            epoch, 1000, cost.item(), accuracy * 100, # epoch, cost, accuracy 출력\n",
        "    ))"
      ],
      "metadata": {
        "colab": {
          "base_uri": "https://localhost:8080/"
        },
        "id": "YeQI0cnOROCp",
        "outputId": "fc66a9d2-e333-4d03-9c94-8e1b577d8cd2"
      },
      "execution_count": 6,
      "outputs": [
        {
          "output_type": "stream",
          "name": "stdout",
          "text": [
            "Epoch 99/1000 Cost: 0.469938 Accuracy 89.11%\n",
            "Epoch 199/1000 Cost: 0.317336 Accuracy 93.07%\n",
            "Epoch 299/1000 Cost: 0.245835 Accuracy 95.05%\n",
            "Epoch 399/1000 Cost: 0.202133 Accuracy 96.04%\n",
            "Epoch 499/1000 Cost: 0.172118 Accuracy 97.03%\n",
            "Epoch 599/1000 Cost: 0.150037 Accuracy 100.00%\n",
            "Epoch 699/1000 Cost: 0.133041 Accuracy 100.00%\n",
            "Epoch 799/1000 Cost: 0.119530 Accuracy 100.00%\n",
            "Epoch 899/1000 Cost: 0.108523 Accuracy 100.00%\n",
            "Epoch 999/1000 Cost: 0.099384 Accuracy 100.00%\n"
          ]
        }
      ]
    }
  ]
}