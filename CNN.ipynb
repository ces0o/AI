{
  "nbformat": 4,
  "nbformat_minor": 0,
  "metadata": {
    "colab": {
      "provenance": []
    },
    "kernelspec": {
      "name": "python3",
      "display_name": "Python 3"
    },
    "language_info": {
      "name": "python"
    }
  },
  "cells": [
    {
      "cell_type": "markdown",
      "metadata": {
        "id": "Fy2_q1yA_eY2"
      },
      "source": [
        "# Convolutional Neural Network\n",
        "\n",
        ""
      ]
    },
    {
      "cell_type": "markdown",
      "metadata": {
        "id": "kFWSw3mPzCd3"
      },
      "source": [
        "### Imports"
      ]
    },
    {
      "cell_type": "code",
      "metadata": {
        "id": "ePyjL-fEA4As",
        "colab": {
          "base_uri": "https://localhost:8080/"
        },
        "outputId": "7e50645b-0fde-45dd-d4bf-9b2ca3563639"
      },
      "source": [
        "import torch\n",
        "import torchvision.datasets as dsets\n",
        "import torchvision.transforms as transforms\n",
        "import torch.nn.init\n",
        "\n",
        "device = 'cuda' if torch.cuda.is_available() else 'cpu'\n",
        "# GPU 사용\n",
        "\n",
        "# for reproducibility\n",
        "torch.manual_seed(777)\n",
        "if device == 'cuda':\n",
        "    torch.cuda.manual_seed_all(777)"
      ],
      "execution_count": null,
      "outputs": [
        {
          "output_type": "execute_result",
          "data": {
            "text/plain": [
              "<torch._C.Generator at 0x7fc3da535b90>"
            ]
          },
          "metadata": {},
          "execution_count": 1
        }
      ]
    },
    {
      "cell_type": "markdown",
      "metadata": {
        "id": "SH2RX5pEBB0H"
      },
      "source": [
        "### 1 CNN model\n",
        "* Input (입력의 형태)\n",
        "  + Input type: torch.Tensor\n",
        "  + Input shape: (N x C x H x W)\n",
        "    - N: Batch size, C: # of channels, H: height, W: width\n",
        "  + (?, 1, 28, 28)\n",
        "    - 여러장의, 흑백, 28x28 size의 이미지라고 가정하자\n",
        "* Layer 설계\n",
        "  + Layer 1\n",
        "    - Conv2d >> C: 32, Kernel size (필터 크기): 3, Stride: 1, Padding: 1\n",
        "    - ReLU\n",
        "    - MaxPool >> Kernel size: 2, Stride: 2\n",
        "    - 입-출력 (?, 1, 28, 28) >> (?, 32, 14, 14)\n",
        "  + Layer 2\n",
        "    - Conv2d >> C: 64, Kernel size (필터 크기): 3, Stride: 1, Padding: 1\n",
        "    - ReLU\n",
        "    - MaxPool >> Kernel size: 2, Stride: 2\n",
        "    - 입-출력 (?, 32, 14, 14) >> (?, 64, 7, 7)\n",
        "  + Layer 3\n",
        "    - Linear >> input: 7x7x64 output: 10\n",
        "    - Softmax"
      ]
    },
    {
      "cell_type": "code",
      "metadata": {
        "id": "HL2ZwVjWBCw7"
      },
      "source": [
        "class CNN(torch.nn.Module):\n",
        "\n",
        "    def __init__(self):\n",
        "        super(CNN, self).__init__()\n",
        "        # L1 Input shape=(?, 1, 28, 28)\n",
        "        #    Conv     -> (?, 32, 28, 28)\n",
        "        #    Pool     -> (?, 32, 14, 14)\n",
        "        self.layer1 = torch.nn.Sequential(\n",
        "            torch.nn.Conv2d(1, 32, kernel_size=3, stride=1, padding=1),\n",
        "            torch.nn.ReLU(),\n",
        "            # 여기서 ReLU는 선형성, 계산효율, Vanishing Gradient 문제 감소등의 이유로 사용된다\n",
        "            torch.nn.MaxPool2d(kernel_size=2, stride=2))\n",
        "        # L2 Input shape=(?, 32, 14, 14)\n",
        "        #    Conv      ->(?, 64, 14, 14)\n",
        "        #    Pool      ->(?, 64, 7, 7)\n",
        "        self.layer2 = torch.nn.Sequential(\n",
        "            torch.nn.Conv2d(32, 64, kernel_size=3, stride=1, padding=1),\n",
        "            torch.nn.ReLU(),\n",
        "            torch.nn.MaxPool2d(kernel_size=2, stride=2))\n",
        "            # maxpool은 size를 축소시키는 용도로 사용된다. (대표값을 뽑아줌)\n",
        "\n",
        "        # L3 Linear 64x7x7 inputs -> 10 outputs\n",
        "        self.fc = torch.nn.Linear(64*7*7, 10, bias=True)\n",
        "        # 이전 레이어의 출력을 \"평탄화\"하여 다음 스테이지의 입력이 될 수 있는 단일 벡터로 변환\n",
        "        torch.nn.init.xavier_uniform_(self.fc.weight)\n",
        "        # 신경망 모델의 학습을 시작하기 전에 가중치를 적절한 값으로 설정하는 과정, 초기화를 잘 수행하면 모델의 학습이 빠르고 안정적으로 이루어질 수 있다.\n",
        "\n",
        "    def forward(self, x):\n",
        "        out = self.layer1(x)\n",
        "        out = self.layer2(out)\n",
        "        out = out.view(out.size(0), -1)\n",
        "        # 이 부분은 컨볼루션 레이어들을 통과한 결과를 fully connected 레이어에 전달하기 전에 평탄화(flatten)하는 역할을 한다\n",
        "        # -1은 나머지 차원을 자동으로 조정하라는 의미이며,\n",
        "        # 이는 주로 배치 크기를 유지하면서 나머지 차원들을 평탄하게 펼치기 위해 사용된다\n",
        "        out = self.fc(out)\n",
        "        return out"
      ],
      "execution_count": null,
      "outputs": []
    },
    {
      "cell_type": "markdown",
      "metadata": {
        "id": "hc6TPzluWB1M"
      },
      "source": [
        "### 2 Assignment\n",
        "### 다음과 같은 CNN 모델을 작성해보자\n",
        "* Input\n",
        "  + Input type: torch.Tensor\n",
        "  + Input shape: (?, 1, 28, 28)\n",
        "    - 여러장의, 흑백, 28x28 size의 이미지라고 가정하자\n",
        "* Layers\n",
        "  + Layer 1\n",
        "    - Conv2d >> C: 32, Kernel size (필터 크기): 3, Stride: 1, Padding: 1\n",
        "    - ReLU\n",
        "    - MaxPool >> Kernel size: 2, Stride: 2\n",
        "    - 입-출력 (?, 1, 28, 28) >> (?, 32, 14, 14)\n",
        "  + Layer 2\n",
        "    - Conv2d >> C: 64, Kernel size (필터 크기): 3, Stride: 1, Padding: 1\n",
        "    - ReLU\n",
        "    - MaxPool >> Kernel size: 2, Stride: 2\n",
        "    - 입-출력 (?, 32, 14, 14) >> (?, 64, 7, 7)\n",
        "  + Layer 3\n",
        "    - Conv2d >> C: 128, Kernel size (필터 크기): 3, Stride: 1, Padding: 1\n",
        "    - ReLU\n",
        "    - MaxPool >> Kernel size: 2, Stride: 2, Padding: 1\n",
        "    - 입-출력 (?, 64, 7, 7) >> (?, 128, 4, 4)\n",
        "  + Layer 4\n",
        "    - Linear >> input: 4x4x128 output: 625\n",
        "    - ReLU\n",
        "    - Dropout\n",
        "    - 입-출력 (4x4x128) >> (625)\n",
        "  + Layer 5\n",
        "    - Linear >> input: 625 output: 10\n",
        "    - Softmax (pytorch의 Cross Entropy Loss 함수를 사용하는 것을 감안한다)\n",
        "    \n"
      ]
    },
    {
      "cell_type": "code",
      "source": [
        "from google.colab import drive\n",
        "drive.mount('/content/drive')"
      ],
      "metadata": {
        "colab": {
          "base_uri": "https://localhost:8080/"
        },
        "id": "7ppaFnXkJ51j",
        "outputId": "362d4d10-322f-401a-b4cc-8d84c870e366"
      },
      "execution_count": 1,
      "outputs": [
        {
          "output_type": "stream",
          "name": "stdout",
          "text": [
            "Mounted at /content/drive\n"
          ]
        }
      ]
    },
    {
      "cell_type": "code",
      "source": [
        "def __init__(self):\n",
        "  super(CNN, self).__init__()\n",
        "  # L1 input shape = (?, 1, 28, 28)\n",
        "  # Conv -> (?,32, 28, 28)\n",
        "  # Pool -> (?, 32, 14, 14)\n",
        "  self.layer1 = torch.nn.Sequential(\n",
        "      torch.nn.Conv2d(1, 32, kernel_size=3, stride=1, padding=1),\n",
        "      torch.nn.ReLU(),\n",
        "      torch.nn.MaxPool2d(kernel_size=2, stride=2))\n",
        "\n",
        "  # L2 input shape = (?, 32, 14, 14)\n",
        "  # Conv -> (?, 64, 14, 14)\n",
        "  # Pool -> (?, 64, 7, 7)\n",
        "  self.layer2 = torch.nn.Sequential(\n",
        "      torch.nn.Conv2d(32, 64, kernel_size=3, stride=1, padding=1),\n",
        "      torch.nn.ReLU(),\n",
        "      torch.nn.MaxPool2d(kernel_size=2, stride=2))\n",
        "\n",
        "  # L3 input shape = (?, 64, 7, 7)\n",
        "  # Conv -> (?, 128, 7, 7)\n",
        "  # Pool -> (?, 128, 4, 4)\n",
        "  self.layer3 = torch.nn.Sequential(\n",
        "      torch.nn.Conv2d(64, 128, kernel_size=3, stride=1, padding=1),\n",
        "      torch.nn.ReLU(),\n",
        "      torch.nn.MaxPool2d(kernel_size=2, stride=2, padding=1))\n",
        "\n",
        "  # L4 Linear 128x4x4 inputs -> 625 outputs\n",
        "  self.layer4= torch.nn.Sequential(\n",
        "      torch.nn.Linear(128*4*4, 625, bias=True),\n",
        "      torch.nn.ReLU(),\n",
        "      torch.nn.Dropout(0.2)\n",
        "  # 여기서 Dropout은 과적합을 방지하기 위해서 따로 빼서 결과를 출력하기 위해 사용\n",
        "  # 0.2를 설정했을 때, 20% 노드는 끄고 계산을 진행하는 것\n",
        "  # 128*4*4*0.8만 학습 진행\n",
        "  )\n",
        "\n",
        "  # L5 Linear 625 inputs -> 10 outputs\n",
        "  self.fc = torch.nn.Linear(625, 10, bias=True)\n",
        "  torch.nn.init.xavier_uniform_(self.fc.weight)\n",
        "\n",
        "def forward(self, x):\n",
        "  out = self.layer1(x)\n",
        "  out = self.layer2(out)\n",
        "  out = self.layer3(out)\n",
        "  out = out.view(out.size(0),-1)\n",
        "  # 행렬을 백터로 펴주기 위해 사용, -1은 전체를 변환한다는 의미\n",
        "  out = self.layer4(out)\n",
        "  out = self.fc(out)\n",
        "  return out\n",
        "\n",
        "\n"
      ],
      "metadata": {
        "id": "3dVIrnwiDlKN"
      },
      "execution_count": 3,
      "outputs": []
    }
  ]
}